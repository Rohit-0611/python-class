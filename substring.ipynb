{
 "cells": [
  {
   "cell_type": "code",
   "execution_count": 1,
   "metadata": {},
   "outputs": [
    {
     "ename": "NameError",
     "evalue": "name 'found' is not defined",
     "output_type": "error",
     "traceback": [
      "\u001b[1;31m---------------------------------------------------------------------------\u001b[0m",
      "\u001b[1;31mNameError\u001b[0m                                 Traceback (most recent call last)",
      "\u001b[1;32mf:\\Rohit\\Programming python\\python\\class\\substring.ipynb Cell 1'\u001b[0m in \u001b[0;36m<cell line: 4>\u001b[1;34m()\u001b[0m\n\u001b[0;32m      <a href='vscode-notebook-cell:/f%3A/Rohit/Programming%20python/python/class/substring.ipynb#ch0000000?line=1'>2</a>\u001b[0m str2\u001b[39m=\u001b[39m\u001b[39mstr\u001b[39m(\u001b[39minput\u001b[39m(\u001b[39m\"\u001b[39m\u001b[39mEnter the string 2\u001b[39m\u001b[39m\"\u001b[39m))\n\u001b[0;32m      <a href='vscode-notebook-cell:/f%3A/Rohit/Programming%20python/python/class/substring.ipynb#ch0000000?line=3'>4</a>\u001b[0m \u001b[39mif\u001b[39;00m(str1\u001b[39m.\u001b[39mfind(str2)\u001b[39m==\u001b[39m\u001b[39m0\u001b[39m):\n\u001b[1;32m----> <a href='vscode-notebook-cell:/f%3A/Rohit/Programming%20python/python/class/substring.ipynb#ch0000000?line=4'>5</a>\u001b[0m     found\u001b[39m=\u001b[39mfound\u001b[39m+\u001b[39m\u001b[39m1\u001b[39m\n\u001b[0;32m      <a href='vscode-notebook-cell:/f%3A/Rohit/Programming%20python/python/class/substring.ipynb#ch0000000?line=5'>6</a>\u001b[0m \u001b[39melse\u001b[39;00m:\n\u001b[0;32m      <a href='vscode-notebook-cell:/f%3A/Rohit/Programming%20python/python/class/substring.ipynb#ch0000000?line=6'>7</a>\u001b[0m     \u001b[39mprint\u001b[39m(\u001b[39m\"\u001b[39m\u001b[39mSub string not found\u001b[39m\u001b[39m\"\u001b[39m)\n",
      "\u001b[1;31mNameError\u001b[0m: name 'found' is not defined"
     ]
    }
   ],
   "source": [
    "str1=str(input(\"Enter the string 1\"))\n",
    "str2=str(input(\"Enter the string 2\"))\n",
    "\n",
    "if(str1.find(str2)==0):\n",
    "    found=found+1\n",
    "else:\n",
    "    print(\"Sub string not found\")\n",
    "\n",
    "print(\"Element is found :\",found)\n"
   ]
  },
  {
   "cell_type": "code",
   "execution_count": 6,
   "metadata": {},
   "outputs": [
    {
     "name": "stdout",
     "output_type": "stream",
     "text": [
      "Element is not found\n",
      "Substring frequence is : 2\n"
     ]
    }
   ],
   "source": [
    "f=0\n",
    "str1=input(\"Enter the string 1\")\n",
    "str2=input(\"Enter the string 2\")\n",
    "for i in range(len(str1)):\n",
    "    for j in range(len(str2)):\n",
    "        if str1[i]==str2[j]:\n",
    "         j=j+1\n",
    "    if j==len(str2):\n",
    "        f=f+1\n",
    "\n",
    "\n",
    "print(\"Substring frequence is :\",f)\n",
    "\n",
    "\n"
   ]
  },
  {
   "cell_type": "code",
   "execution_count": 1,
   "metadata": {},
   "outputs": [
    {
     "data": {
      "text/plain": [
       "dict_keys(['rohit', 'roshan', 'rohan', 'damn'])"
      ]
     },
     "execution_count": 1,
     "metadata": {},
     "output_type": "execute_result"
    }
   ],
   "source": [
    "dict1={\n",
    "    \"rohit\":2.4,\n",
    "    \"roshan\":\"name\",\n",
    "    \"rohan\":\"200\",\n",
    "    \"damn\":(4,5,6,7)\n",
    "}\n",
    "dict1.keys()"
   ]
  },
  {
   "cell_type": "code",
   "execution_count": 3,
   "metadata": {},
   "outputs": [
    {
     "data": {
      "text/plain": [
       "{'rohit': 2.4, 'roshan': 'name', 'rohan': '200', 'damn': (4, 5, 6, 7)}"
      ]
     },
     "execution_count": 3,
     "metadata": {},
     "output_type": "execute_result"
    }
   ],
   "source": [
    "dict1={\n",
    "    \"rohit\":2.4,\n",
    "    \"roshan\":\"name\",\n",
    "    \"rohan\":\"200\",\n",
    "    \"damn\":(4,5,6,7)\n",
    "}\n",
    "dict1"
   ]
  },
  {
   "cell_type": "code",
   "execution_count": null,
   "metadata": {},
   "outputs": [],
   "source": []
  }
 ],
 "metadata": {
  "kernelspec": {
   "display_name": "Python 3.10.4 64-bit",
   "language": "python",
   "name": "python3"
  },
  "language_info": {
   "codemirror_mode": {
    "name": "ipython",
    "version": 3
   },
   "file_extension": ".py",
   "mimetype": "text/x-python",
   "name": "python",
   "nbconvert_exporter": "python",
   "pygments_lexer": "ipython3",
   "version": "3.10.4"
  },
  "orig_nbformat": 4,
  "vscode": {
   "interpreter": {
    "hash": "64662e17c20e17ba9ef56a1055aa4fdde537c737af698ff811ebb2b7d83aa6f7"
   }
  }
 },
 "nbformat": 4,
 "nbformat_minor": 2
}
