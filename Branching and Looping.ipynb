{
 "cells": [
  {
   "cell_type": "code",
   "execution_count": 1,
   "metadata": {},
   "outputs": [
    {
     "name": "stdout",
     "output_type": "stream",
     "text": [
      "happy new year rogit rogi!, i wish you rogi\n",
      "None\n"
     ]
    },
    {
     "data": {
      "text/plain": [
       "'rogit rogi'"
      ]
     },
     "execution_count": 1,
     "metadata": {},
     "output_type": "execute_result"
    }
   ],
   "source": [
    "def greetings_function(name,greetings):\n",
    "    print(\"happy new year {}!, i wish you {}\".format(name,greetings))\n",
    "a=str(input(\"Enter the first string\"))\n",
    "b=str(input(\"Enter the second string\"))\n",
    "print(greetings_function(a,b))\n",
    "a\n"
   ]
  },
  {
   "cell_type": "code",
   "execution_count": 1,
   "metadata": {},
   "outputs": [
    {
     "name": "stdout",
     "output_type": "stream",
     "text": [
      "happy new year rohit!, i wsih you greetings\n",
      "None\n"
     ]
    }
   ],
   "source": [
    "def greetings_fucntion(name,greetings):\n",
    "    print(\"happy new year {}!, i wsih you {}\".format(name,greetings))\n",
    "print(greetings_fucntion(\"rohit\", \"greetings\"))\n"
   ]
  },
  {
   "cell_type": "code",
   "execution_count": 10,
   "metadata": {},
   "outputs": [
    {
     "name": "stdout",
     "output_type": "stream",
     "text": [
      "0\n",
      "1\n",
      "2\n",
      "4\n",
      "5\n",
      "7\n"
     ]
    }
   ],
   "source": [
    "for i in range(8):    \n",
    "    if(i==3):\n",
    "     continue\n",
    "    elif(i==6):\n",
    "     continue\n",
    "    print(i)\n"
   ]
  },
  {
   "cell_type": "code",
   "execution_count": null,
   "metadata": {},
   "outputs": [],
   "source": []
  }
 ],
 "metadata": {
  "interpreter": {
   "hash": "64662e17c20e17ba9ef56a1055aa4fdde537c737af698ff811ebb2b7d83aa6f7"
  },
  "kernelspec": {
   "display_name": "Python 3.10.4 64-bit",
   "language": "python",
   "name": "python3"
  },
  "language_info": {
   "codemirror_mode": {
    "name": "ipython",
    "version": 3
   },
   "file_extension": ".py",
   "mimetype": "text/x-python",
   "name": "python",
   "nbconvert_exporter": "python",
   "pygments_lexer": "ipython3",
   "version": "3.10.4"
  },
  "orig_nbformat": 4,
  "vscode": {
   "interpreter": {
    "hash": "64662e17c20e17ba9ef56a1055aa4fdde537c737af698ff811ebb2b7d83aa6f7"
   }
  }
 },
 "nbformat": 4,
 "nbformat_minor": 2
}
