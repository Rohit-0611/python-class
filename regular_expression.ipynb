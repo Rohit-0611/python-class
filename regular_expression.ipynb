{
 "cells": [
  {
   "cell_type": "markdown",
   "metadata": {},
   "source": []
  },
  {
   "cell_type": "code",
   "execution_count": null,
   "metadata": {},
   "outputs": [],
   "source": [
    "import re\n",
    "text_to_search='''\n",
    "fdsjfsgdfg\n",
    "fdsfdsg\n",
    "333-444-5555\n",
    "111-222-3333\n",
    "444-555-6666\n",
    "ffh\n",
    "fsfwyuwry\n",
    "rhirrw\n",
    "rqwurqwuqw\n",
    "fgfbmfs hfwj\n",
    "hfagasfuag\n",
    "'''\n",
    "sentence='Start a sentence amd then bring it to an end'\n",
    "pattern=re.compile(r'\\d{3}-\\d{3}-\\d{4}',re.I)"
   ]
  },
  {
   "cell_type": "code",
   "execution_count": null,
   "metadata": {},
   "outputs": [],
   "source": [
    "matches=re.search(pattern,text_to_search)"
   ]
  },
  {
   "cell_type": "code",
   "execution_count": null,
   "metadata": {},
   "outputs": [],
   "source": []
  },
  {
   "cell_type": "markdown",
   "metadata": {},
   "source": []
  },
  {
   "cell_type": "code",
   "execution_count": null,
   "metadata": {},
   "outputs": [],
   "source": [
    "m=re.match(\"A\")"
   ]
  }
 ],
 "metadata": {
  "language_info": {
   "name": "python"
  },
  "orig_nbformat": 4
 },
 "nbformat": 4,
 "nbformat_minor": 2
}
