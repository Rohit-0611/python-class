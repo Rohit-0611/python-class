{
 "cells": [
  {
   "cell_type": "markdown",
   "metadata": {},
   "source": []
  },
  {
   "cell_type": "code",
   "execution_count": 1,
   "metadata": {},
   "outputs": [],
   "source": [
    "import numpy as np"
   ]
  },
  {
   "cell_type": "code",
   "execution_count": 13,
   "metadata": {},
   "outputs": [
    {
     "name": "stdout",
     "output_type": "stream",
     "text": [
      "[[1. 1. 1. 1.]\n",
      " [1. 1. 1. 1.]\n",
      " [1. 1. 1. 1.]\n",
      " [1. 1. 1. 1.]]\n"
     ]
    }
   ],
   "source": [
    "x=np.ones((4,4),dtype=float)\n",
    "print(x)"
   ]
  },
  {
   "cell_type": "markdown",
   "metadata": {},
   "source": []
  },
  {
   "cell_type": "code",
   "execution_count": 21,
   "metadata": {},
   "outputs": [
    {
     "name": "stdout",
     "output_type": "stream",
     "text": [
      "[('bored', 2, 41.) ('sarrow', 3, 31.)]\n"
     ]
    }
   ],
   "source": [
    "a=np.array([('bored',2,41.0),('sarrow',3,31.0)],\n",
    "dtype=([('name',(np.str_,10)),('level',np.int32),('hours',np.float64)]))\n",
    "print(a)"
   ]
  },
  {
   "cell_type": "code",
   "execution_count": 22,
   "metadata": {},
   "outputs": [
    {
     "name": "stdout",
     "output_type": "stream",
     "text": [
      "Sorting according to name: [('bored', 2, 41.) ('sarrow', 3, 31.)]\n"
     ]
    }
   ],
   "source": [
    "b=np.sort(a,order='name')\n",
    "print(\"Sorting according to name:\",b)"
   ]
  },
  {
   "cell_type": "code",
   "execution_count": 24,
   "metadata": {},
   "outputs": [
    {
     "name": "stdout",
     "output_type": "stream",
     "text": [
      "Sorting according to hours: [('sarrow', 3, 31.) ('bored', 2, 41.)]\n"
     ]
    }
   ],
   "source": [
    "c=np.sort(a,order='hours')\n",
    "print(\"Sorting according to hours:\",c)"
   ]
  },
  {
   "cell_type": "markdown",
   "metadata": {},
   "source": [
    "command data type"
   ]
  },
  {
   "cell_type": "code",
   "execution_count": 25,
   "metadata": {},
   "outputs": [
    {
     "name": "stdout",
     "output_type": "stream",
     "text": [
      "[('name', '<U10'), ('age', '<i4'), ('weight', '<f8')]\n"
     ]
    }
   ],
   "source": [
    "data=np.zeros(4,dtype={'names':('name','age','weight'),\n",
    "                       'formats':('U10','i4','f8')})\n",
    "print(data.dtype)"
   ]
  },
  {
   "cell_type": "code",
   "execution_count": 27,
   "metadata": {},
   "outputs": [
    {
     "name": "stdout",
     "output_type": "stream",
     "text": [
      "[('name', '<U10'), ('age', '<i4'), ('weight', '<f4')]\n"
     ]
    }
   ],
   "source": [
    "data=np.zeros(4,dtype={'names':('name','age','weight'),\n",
    "                       'formats':((np.str_,10),np.int32,np.float32)})\n",
    "print(data.dtype)"
   ]
  },
  {
   "cell_type": "markdown",
   "metadata": {},
   "source": [
    "EXAMPLE TABLE"
   ]
  },
  {
   "cell_type": "code",
   "execution_count": 35,
   "metadata": {},
   "outputs": [
    {
     "name": "stdout",
     "output_type": "stream",
     "text": [
      "[(1, 'Rohit', 'Roti', 1200, 'sad123', '9884511368')\n",
      " (2, 'Rohan', 'Chappati', 1100, 'sad124', '988451136')\n",
      " (3, 'Roshan', 'Puri', 1500, 'sad125', '9884510368')\n",
      " (4, 'Vijay', 'Naan', 2200, 'sad023', '9804511368')\n",
      " (5, 'Suchita', 'Sambar', 1250, 'sad273', '9894511368')\n",
      " (6, 'Vivek', 'Noodles', 3200, 'sad13', '884511368')\n",
      " (7, 'Shruthi', 'Biryani', 2360, 'sa123', '9884571368')]\n"
     ]
    }
   ],
   "source": [
    "table_1=np.array([(1,\"Rohit\",'Roti',1200,'sad123','9884511368'),(2,\"Rohan\",'Chappati',1100,'sad124','988451136'),(3,\"Roshan\",'Puri',1500,'sad125','9884510368'),(4,\"Vijay\",'Naan',2200,'sad023','9804511368'),(5,\"Suchita\",'Sambar',1250,'sad273','9894511368'),(6,\"Vivek\",'Noodles',3200,'sad13','884511368'),(7,\"Shruthi\",'Biryani',2360,'sa123','9884571368')],\n",
    "dtype=([('S.No',np.int64),('NAME',(np.str_,20)),('FOOD',(np.str_,20)),('Calorie',np.int32),('BILL_no',(np.str_,20)),('PHONE',(np.str_,10))]))\n",
    "print(table_1)"
   ]
  },
  {
   "cell_type": "code",
   "execution_count": null,
   "metadata": {},
   "outputs": [],
   "source": []
  },
  {
   "cell_type": "code",
   "execution_count": null,
   "metadata": {},
   "outputs": [],
   "source": []
  }
 ],
 "metadata": {
  "kernelspec": {
   "display_name": "Python 3.9.12",
   "language": "python",
   "name": "python3"
  },
  "language_info": {
   "codemirror_mode": {
    "name": "ipython",
    "version": 3
   },
   "file_extension": ".py",
   "mimetype": "text/x-python",
   "name": "python",
   "nbconvert_exporter": "python",
   "pygments_lexer": "ipython3",
   "version": "3.9.12"
  },
  "orig_nbformat": 4,
  "vscode": {
   "interpreter": {
    "hash": "91bb753b057673435fb8d6f6a083e6c818364728098c7ae050ca3a25357dd754"
   }
  }
 },
 "nbformat": 4,
 "nbformat_minor": 2
}
