{
 "cells": [
  {
   "cell_type": "code",
   "execution_count": null,
   "metadata": {},
   "outputs": [],
   "source": [
    "A = {0, 2, 4, 6, 8};\n",
    "B = {1, 2, 3, 4, 5};\n",
    "  \n",
    "# union\n",
    "print(\"Union :\", A | B)\n",
    "  \n",
    "# intersection\n",
    "print(\"Intersection :\", A & B)\n",
    "  \n",
    "# difference\n",
    "print(\"Difference :\", A - B)\n",
    "  \n",
    "# symmetric difference\n",
    "print(\"Symmetric difference :\", A ^ B)"
   ]
  },
  {
   "cell_type": "code",
   "execution_count": null,
   "metadata": {},
   "outputs": [],
   "source": [
    "A = {0, 2, 4, 6, 8};\n",
    "B = {1, 2, 3, 4, 5};\n",
    "  \n",
    "# union\n",
    "print(\"Union :\", A | B)\n",
    "  \n",
    "# intersection\n",
    "print(\"Intersection :\", A & B)\n",
    "  \n",
    "# difference\n",
    "print(\"Difference :\", A - B)\n",
    "  \n",
    "# symmetric difference\n",
    "print(\"Symmetric difference :\", A ^ B)"
   ]
  },
  {
   "cell_type": "code",
   "execution_count": null,
   "metadata": {},
   "outputs": [],
   "source": [
    "def intersection(lst1, lst2):\n",
    "    return list(set(lst1) & set(lst2))\n",
    " \n",
    "# Driver Code\n",
    "lst1 = [15, 9, 10, 56, 23, 78, 5, 4, 9]\n",
    "lst2 = [9, 4, 5, 36, 47, 26, 10, 45, 87]\n",
    "print(intersection(lst1, lst2))"
   ]
  }
 ],
 "metadata": {
  "language_info": {
   "name": "python"
  },
  "orig_nbformat": 4
 },
 "nbformat": 4,
 "nbformat_minor": 2
}
